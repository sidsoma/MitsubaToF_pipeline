{
 "cells": [
  {
   "cell_type": "code",
   "execution_count": 4,
   "metadata": {},
   "outputs": [
    {
     "name": "stdout",
     "output_type": "stream",
     "text": [
      "False\n"
     ]
    }
   ],
   "source": [
    "import numpy as np\n",
    "import matplotlib\n",
    "import matplotlib.pyplot as plt\n",
    "import os\n",
    "import subprocess\n",
    "plt.ioff()\n",
    "print(matplotlib.is_interactive())"
   ]
  },
  {
   "cell_type": "code",
   "execution_count": 2,
   "metadata": {},
   "outputs": [],
   "source": [
    "# =================== Define Experiment Name =================== #\n",
    "exp_name = 'test_mitsuba'\n",
    "scene_name = 'scenes/planar_scene.xml'\n",
    "\n",
    "# ================ Define Intrinsic Parameters (Fixed) ================= #\n",
    "# Field of view \n",
    "fov = 36\n",
    "fovAxis = 'x'\n",
    "# Camera pixel resolution\n",
    "x_res = 512\n",
    "y_res = 512\n",
    "# Number of laser Spots\n",
    "num_x_spots = 12\n",
    "num_y_spots = 12\n",
    "# Laser spot half-width in pixels (spot_hw * 2 = spot width in pixels)\n",
    "spot_hw = 1 \n",
    "numSamples = 16\n",
    "\n",
    "# ================= Define Extrinsic Parameters ================ #\n",
    "# Camera Location (world coordinates)\n",
    "cam_x = 0\n",
    "cam_y = 0\n",
    "cam_z = 0\n",
    "# Camera Lookat position (world coordinates)\n",
    "look_x = 0\n",
    "look_y = 0\n",
    "look_z = 1\n",
    "\n",
    "# ==================== Simulator Parameters ==================== #\n",
    "tMin = 1.5 # units in pathlength\n",
    "tMax = 2.5 # units in pathlength\n",
    "tRes = 0.1 # units in pathlength"
   ]
  },
  {
   "cell_type": "code",
   "execution_count": 9,
   "metadata": {},
   "outputs": [
    {
     "name": "stdout",
     "output_type": "stream",
     "text": [
      "False\n"
     ]
    },
    {
     "data": {
      "image/png": "[encoded data removed]",
      "text/plain": [
       "<Figure size 864x864 with 1 Axes>"
      ]
     },
     "metadata": {
      "needs_background": "light"
     },
     "output_type": "display_data"
    }
   ],
   "source": [
    "# === Create experiment directory === #\n",
    "os.mkdir(exp_name)\n",
    "\n",
    "# === Compute projector image === #\n",
    "x_locs = np.linspace(spot_hw + 5, x_res-5-spot_hw, num_x_spots)\n",
    "y_locs = np.linspace(spot_hw + 5, y_res-5-spot_hw, num_y_spots)\n",
    "grid_x, grid_y = np.meshgrid(x_locs, y_locs, indexing='xy')\n",
    "\n",
    "proj_img = np.zeros((y_res, x_res))\n",
    "for ix in range(num_x_spots):\n",
    "    for iy in range(num_y_spots):\n",
    "        idx_y = int(grid_y[iy, ix])\n",
    "        idx_x = int(grid_x[iy, ix])\n",
    "        proj_img[idx_y-spot_hw:idx_y+spot_hw+1, idx_x-spot_hw:idx_x+spot_hw+1] = 1\n",
    "\n",
    "plt.figure(figsize=(12, 12), frameon=False)\n",
    "plt.imshow(proj_img, interpolation='none', cmap='gray')\n",
    "plt.axis('off')\n",
    "proj_img_dir = os.path.join(exp_name, 'proj_img.png')\n",
    "plt.savefig(proj_img_dir, bbox_inches='tight', pad_inches=0)"
   ]
  },
  {
   "cell_type": "code",
   "execution_count": null,
   "metadata": {},
   "outputs": [],
   "source": [
    "# === Run Mitsuba on defined scene and camera parameters === #\n",
    "output_dir = os.path.join(exp_name, 'output.exr')\n",
    "subprocess.call(f'mitsuba camera.xml ' # .xml file for all experiments\n",
    "                f'-D fov={fov} -D fovAxis={fovAxis} ' \n",
    "                f'-D cam_x={cam_x} -D cam_y={cam_y} -D cam_z={cam_z} ' \n",
    "                f'-D look_x={look_z} -D look_y={look_y} -D look_z={look_z} ' \n",
    "                f'-D numSamples={numSamples} '\n",
    "                f'-D x_res={x_res} -D y_res={y_res} '\n",
    "                f'-D tMin={tMin} -D tMax={tMax} -D tRes={tRes} '\n",
    "                f'-D proj_img={proj_img_dir} '\n",
    "                f'-D scene={scene_name} '\n",
    "                f'-o {output_dir} ' # file and directory to save to\n",
    "                f'-q -j 10', # quiet mode, simultaneously schedule several scenes\n",
    "                shell=True)\n",
    "\n",
    "print(f'Saving files to {exp_name}')"
   ]
  },
  {
   "cell_type": "code",
   "execution_count": null,
   "metadata": {},
   "outputs": [],
   "source": [
    "idx = 500\n",
    "idx2 = 454\n",
    "print(proj_img[idx:idx+10, idx2:idx2+10])"
   ]
  },
  {
   "cell_type": "code",
   "execution_count": null,
   "metadata": {},
   "outputs": [],
   "source": []
  }
 ],
 "metadata": {
  "kernelspec": {
   "display_name": "venv",
   "language": "python",
   "name": "python3"
  },
  "language_info": {
   "codemirror_mode": {
    "name": "ipython",
    "version": 3
   },
   "file_extension": ".py",
   "mimetype": "text/x-python",
   "name": "python",
   "nbconvert_exporter": "python",
   "pygments_lexer": "ipython3",
   "version": "3.10.12"
  }
 },
 "nbformat": 4,
 "nbformat_minor": 2
}
